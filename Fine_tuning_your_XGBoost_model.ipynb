{
  "nbformat": 4,
  "nbformat_minor": 0,
  "metadata": {
    "colab": {
      "provenance": []
    },
    "kernelspec": {
      "name": "python3",
      "display_name": "Python 3"
    },
    "language_info": {
      "name": "python"
    }
  },
  "cells": [
    {
      "cell_type": "code",
      "execution_count": null,
      "metadata": {
        "id": "ryX7eX-B1Bnx"
      },
      "outputs": [],
      "source": [
        "import pandas as pd\n",
        "import numpy as np\n",
        "import matplotlib.pyplot as plt\n",
        "import xgboost as xgb"
      ]
    },
    {
      "cell_type": "code",
      "source": [
        "df = pd.read_csv('ames_housing_trimmed_processed.csv')\n",
        "X, y = df.iloc[:, :-1], df.iloc[:, -1]"
      ],
      "metadata": {
        "id": "QFYofYx11Txk"
      },
      "execution_count": null,
      "outputs": []
    },
    {
      "cell_type": "code",
      "source": [
        "# Create the DMatrix: housing_dmatrix\n",
        "housing_dmatrix = xgb.DMatrix(data=X, label=y)\n",
        "\n",
        "# Creata the parameter dictionary for each tree: params\n",
        "params = {\"objective\":\"reg:squarederror\", \"max_depth\":3}\n",
        "\n",
        "# Create list of number of boosting rounds\n",
        "num_rounds = [5, 10, 15]\n",
        "\n",
        "# Empty list to store final round rmse per XGBoost model\n",
        "final_rmse_per_round = []\n",
        "\n",
        "# Interate over num_rounds and build one model per num_boost_round parameter\n",
        "for curr_num_rounds in num_rounds:\n",
        "    # Perform cross-validation: cv_results\n",
        "    cv_results = xgb.cv(dtrain=housing_dmatrix, params=params, nfold=3,\n",
        "                        num_boost_round=curr_num_rounds, metrics='rmse',\n",
        "                        as_pandas=True, seed=123)\n",
        "\n",
        "    # Append final round RMSE\n",
        "    final_rmse_per_round.append(cv_results['test-rmse-mean'].tail().values[-1])\n",
        "\n",
        "# Print the result DataFrame\n",
        "num_rounds_rmses = list(zip(num_rounds, final_rmse_per_round))\n",
        "print(pd.DataFrame(num_rounds_rmses, columns=['num_boosting_rounds', 'rmse']))"
      ],
      "metadata": {
        "colab": {
          "base_uri": "https://localhost:8080/"
        },
        "id": "gKZPLgjd1UyU",
        "outputId": "b8c74d1a-3124-43a1-d14c-71d23db047c3"
      },
      "execution_count": null,
      "outputs": [
        {
          "output_type": "stream",
          "name": "stdout",
          "text": [
            "   num_boosting_rounds          rmse\n",
            "0                    5  50903.299752\n",
            "1                   10  34774.194090\n",
            "2                   15  32895.099185\n"
          ]
        }
      ]
    },
    {
      "cell_type": "code",
      "source": [
        "# Create your housing DMatrix: housing_dmatrix\n",
        "housing_dmatrix = xgb.DMatrix(data=X, label=y)\n",
        "\n",
        "# Create the parameter dictionary for each tree: params\n",
        "params = {\"objective\":\"reg:squarederror\", \"max_depth\":4}\n",
        "\n",
        "# Perform cross-validation with early-stopping: cv_results\n",
        "cv_results = xgb.cv(dtrain=housing_dmatrix, nfold=3, params=params, metrics=\"rmse\",\n",
        "                    early_stopping_rounds=10, num_boost_round=50, as_pandas=True, seed=123)\n",
        "\n",
        "# Print cv_results\n",
        "print(cv_results)"
      ],
      "metadata": {
        "colab": {
          "base_uri": "https://localhost:8080/"
        },
        "id": "LIvC7Eib1p3N",
        "outputId": "876e7cbd-a323-4345-ec7b-d79f506aa9f7"
      },
      "execution_count": null,
      "outputs": [
        {
          "output_type": "stream",
          "name": "stdout",
          "text": [
            "    train-rmse-mean  train-rmse-std  test-rmse-mean  test-rmse-std\n",
            "0     141871.635216      403.633062   142640.653507     705.559723\n",
            "1     103057.033818       73.768079   104907.664683     111.117033\n",
            "2      75975.967655      253.727043    79262.056654     563.766693\n",
            "3      57420.530642      521.658273    61620.137859    1087.693428\n",
            "4      44552.956483      544.170426    50437.560906    1846.446643\n",
            "5      35763.948865      681.796675    43035.659539    2034.471115\n",
            "6      29861.464164      769.571418    38600.880800    2169.796804\n",
            "7      25994.675122      756.520639    36071.817710    2109.795408\n",
            "8      23306.836299      759.237848    34383.186387    1934.547433\n",
            "9      21459.770256      745.624640    33509.140338    1887.375358\n",
            "10     20148.721060      749.612186    32916.806725    1850.893437\n",
            "11     19215.382607      641.387200    32197.833474    1734.456654\n",
            "12     18627.388962      716.256240    31770.852340    1802.154296\n",
            "13     17960.695080      557.043324    31482.782172    1779.124406\n",
            "14     17559.736640      631.413137    31389.990252    1892.320326\n",
            "15     17205.713357      590.171774    31302.883291    1955.165882\n",
            "16     16876.571801      703.631953    31234.058914    1880.706205\n",
            "17     16597.662170      703.677363    31318.347820    1828.860754\n",
            "18     16330.460661      607.274258    31323.634893    1775.909992\n",
            "19     16005.972387      520.470815    31204.135450    1739.076237\n",
            "20     15814.300847      518.604822    31089.863868    1756.022175\n",
            "21     15493.405856      505.616461    31047.997697    1624.673447\n",
            "22     15270.734205      502.018639    31056.916210    1668.043691\n",
            "23     15086.381896      503.913078    31024.984403    1548.985086\n",
            "24     14917.608289      486.206137    30983.685376    1663.131135\n",
            "25     14709.589477      449.668262    30989.476981    1686.667218\n",
            "26     14457.286251      376.787759    30952.113767    1613.172390\n",
            "27     14185.567149      383.102597    31066.901381    1648.534545\n",
            "28     13934.066721      473.465580    31095.641882    1709.225578\n",
            "29     13749.644941      473.670743    31103.886799    1778.879849\n",
            "30     13549.836644      454.898742    30976.084872    1744.514518\n",
            "31     13413.484678      399.603422    30938.469354    1746.053330\n",
            "32     13275.915700      415.408595    30931.000055    1772.469405\n",
            "33     13085.878211      493.792795    30929.056846    1765.541040\n",
            "34     12947.181279      517.790033    30890.629160    1786.510472\n",
            "35     12846.027264      547.732747    30884.493051    1769.728787\n",
            "36     12702.378727      505.523140    30833.542124    1691.002007\n",
            "37     12532.244170      508.298300    30856.688154    1771.445485\n",
            "38     12384.055037      536.224929    30818.016568    1782.785175\n",
            "39     12198.443769      545.165604    30839.393263    1847.326671\n",
            "40     12054.583621      508.841802    30776.965294    1912.780332\n",
            "41     11897.036784      477.177932    30794.702627    1919.675130\n",
            "42     11756.221708      502.992363    30780.956160    1906.820178\n",
            "43     11618.846752      519.837483    30783.754746    1951.260120\n",
            "44     11484.080227      578.428500    30776.731276    1953.447810\n",
            "45     11356.552654      565.368946    30758.543732    1947.454939\n",
            "46     11193.557745      552.298986    30729.971937    1985.699239\n",
            "47     11071.315547      604.090125    30732.663173    1966.997252\n",
            "48     10950.778492      574.862853    30712.241251    1957.750615\n",
            "49     10824.865446      576.665678    30720.853939    1950.511037\n"
          ]
        }
      ]
    },
    {
      "cell_type": "code",
      "source": [
        "# Create your housing DMatrix: housing_dmatrix\n",
        "housing_dmatrix = xgb.DMatrix(data=X, label=y)\n",
        "\n",
        "# Create the parameter dictionary for each tree (boosting round)\n",
        "params = {\"objective\":\"reg:squarederror\", \"max_depth\":3}\n",
        "\n",
        "# Create list of eta values and empty list to store final round rmse per xgboost model\n",
        "eta_vals = [0.001, 0.01, 0.1]\n",
        "best_rmse = []\n",
        "\n",
        "# Systematicallyvary the eta\n",
        "for curr_val in eta_vals:\n",
        "    params['eta'] = curr_val\n",
        "\n",
        "    # Perform cross-validation: cv_results\n",
        "    cv_results = xgb.cv(dtrain=housing_dmatrix, params=params, nfold=3,\n",
        "                        early_stopping_rounds=5, num_boost_round=10, metrics='rmse', seed=123,\n",
        "                       as_pandas=True)\n",
        "\n",
        "    # Append the final round rmse to best_rmse\n",
        "    best_rmse.append(cv_results['test-rmse-mean'].tail().values[-1])\n",
        "\n",
        "# Print the result DataFrame\n",
        "print(pd.DataFrame(list(zip(eta_vals, best_rmse)), columns=['eta', 'best_rmse']))"
      ],
      "metadata": {
        "colab": {
          "base_uri": "https://localhost:8080/"
        },
        "id": "pdgvclgH1uEc",
        "outputId": "b59d43bb-212f-4228-98eb-ac0d1f8fbaa8"
      },
      "execution_count": null,
      "outputs": [
        {
          "output_type": "stream",
          "name": "stdout",
          "text": [
            "     eta      best_rmse\n",
            "0  0.001  195736.402543\n",
            "1  0.010  179932.183986\n",
            "2  0.100   79759.411808\n"
          ]
        }
      ]
    },
    {
      "cell_type": "code",
      "source": [
        "# Create your housing DMatrix\n",
        "housing_dmatrix = xgb.DMatrix(data=X, label=y)\n",
        "\n",
        "# Create the parameter dictionary\n",
        "params = {\"objective\":\"reg:squarederror\"}\n",
        "\n",
        "# Create list of max_depth values\n",
        "max_depths = [2, 5, 10, 20]\n",
        "best_rmse = []\n",
        "\n",
        "for curr_val in max_depths:\n",
        "    params['max_depth'] = curr_val\n",
        "\n",
        "    # Perform cross-validation\n",
        "    cv_results = xgb.cv(dtrain=housing_dmatrix, params=params, nfold=2,\n",
        "                       early_stopping_rounds=5, num_boost_round=10, metrics='rmse', seed=123,\n",
        "                        as_pandas=True)\n",
        "\n",
        "    # Append the final round rmse to best_rmse\n",
        "    best_rmse.append(cv_results['test-rmse-mean'].tail().values[-1])\n",
        "\n",
        "# Print the result DataFrame\n",
        "print(pd.DataFrame(list(zip(max_depths, best_rmse)), columns=['max_depth', 'best_rmse']))"
      ],
      "metadata": {
        "colab": {
          "base_uri": "https://localhost:8080/"
        },
        "id": "1QTwKdCN1vWs",
        "outputId": "50170c8a-d2da-4b22-d2b1-573032253fa0"
      },
      "execution_count": null,
      "outputs": [
        {
          "output_type": "stream",
          "name": "stdout",
          "text": [
            "   max_depth     best_rmse\n",
            "0          2  37957.469464\n",
            "1          5  35596.599504\n",
            "2         10  36065.547345\n",
            "3         20  36739.576068\n"
          ]
        }
      ]
    },
    {
      "cell_type": "code",
      "source": [
        "# Create your housing DMatrix\n",
        "housing_dmatrix = xgb.DMatrix(data=X,label=y)\n",
        "\n",
        "# Create the parameter dictionary\n",
        "params={\"objective\":\"reg:squarederror\", \"max_depth\":3}\n",
        "\n",
        "# Create list of hyperparameter values: colsample_bytree_vals\n",
        "colsample_bytree_vals = [0.1, 0.5, 0.8, 1]\n",
        "best_rmse = []\n",
        "\n",
        "# Systematically vary the hyperparameter value\n",
        "for curr_val in colsample_bytree_vals:\n",
        "    params['colsample_bytree'] = curr_val\n",
        "\n",
        "    # Perform cross-validation\n",
        "    cv_results = xgb.cv(dtrain=housing_dmatrix, params=params, nfold=2,\n",
        "                 num_boost_round=10, early_stopping_rounds=5,\n",
        "                 metrics=\"rmse\", as_pandas=True, seed=123)\n",
        "\n",
        "    # Append the final round rmse to best_rmse\n",
        "    best_rmse.append(cv_results[\"test-rmse-mean\"].tail().values[-1])\n",
        "\n",
        "# Print the resultant DataFrame\n",
        "print(pd.DataFrame(list(zip(colsample_bytree_vals, best_rmse)),\n",
        "                   columns=[\"colsample_bytree\",\"best_rmse\"]))"
      ],
      "metadata": {
        "colab": {
          "base_uri": "https://localhost:8080/"
        },
        "id": "EX7jqN0A1zN-",
        "outputId": "f57d8a0e-c945-4921-d9e5-dd0c2ab2258d"
      },
      "execution_count": null,
      "outputs": [
        {
          "output_type": "stream",
          "name": "stdout",
          "text": [
            "   colsample_bytree     best_rmse\n",
            "0               0.1  50033.734626\n",
            "1               0.5  35656.185735\n",
            "2               0.8  36399.002280\n",
            "3               1.0  35836.044343\n"
          ]
        }
      ]
    },
    {
      "cell_type": "code",
      "source": [
        "from sklearn.model_selection import GridSearchCV\n",
        "\n",
        "# Create the parameter grid: gbm_param_grid\n",
        "gbm_param_grid = {\n",
        "    'colsample_bytree': [0.3, 0.7],\n",
        "    'n_estimators': [50],\n",
        "    'max_depth': [2, 5]\n",
        "}\n",
        "\n",
        "# Instantiate the regressor: gbm\n",
        "gbm = xgb.XGBRegressor()\n",
        "\n",
        "# Perform grid search: grid_mse\n",
        "grid_mse = GridSearchCV(param_grid=gbm_param_grid, estimator=gbm,\n",
        "                        scoring='neg_mean_squared_error', cv=4, verbose=1)\n",
        "\n",
        "# Fit grid_mse to the data\n",
        "grid_mse.fit(X, y)\n",
        "\n",
        "# Print the best parameters and lowest RMSE\n",
        "print(\"Best parameters found: \", grid_mse.best_params_)\n",
        "print(\"Lowest RMSE found: \", np.sqrt(np.abs(grid_mse.best_score_)))"
      ],
      "metadata": {
        "colab": {
          "base_uri": "https://localhost:8080/"
        },
        "id": "4pjhZYvj1zM_",
        "outputId": "aa44bd83-11af-48b8-e7dc-9a1d01a4678e"
      },
      "execution_count": null,
      "outputs": [
        {
          "output_type": "stream",
          "name": "stdout",
          "text": [
            "Fitting 4 folds for each of 4 candidates, totalling 16 fits\n",
            "Best parameters found:  {'colsample_bytree': 0.3, 'max_depth': 5, 'n_estimators': 50}\n",
            "Lowest RMSE found:  29916.017850830365\n"
          ]
        }
      ]
    },
    {
      "cell_type": "code",
      "source": [
        "from sklearn.model_selection import RandomizedSearchCV\n",
        "\n",
        "# Create the parameter grid: gbm_param_grid\n",
        "gbm_param_grid = {\n",
        "    'n_estimators': [25],\n",
        "    'max_depth': range(2, 12)\n",
        "}\n",
        "\n",
        "# Instantiate the regressor: gbm\n",
        "gbm = xgb.XGBRegressor(n_estimators=10)\n",
        "\n",
        "# Perform random search: randomized_mse\n",
        "randomized_mse = RandomizedSearchCV(param_distributions=gbm_param_grid, estimator=gbm,\n",
        "                                    scoring='neg_mean_squared_error', n_iter=5, cv=4,\n",
        "                                   verbose=1)\n",
        "\n",
        "# Fit randomized_mse to the data\n",
        "randomized_mse.fit(X, y)\n",
        "\n",
        "# Print the best parameters and lowest RMSE\n",
        "print(\"Best parameters found: \", randomized_mse.best_params_)\n",
        "print(\"Lowest RMSE found: \", np.sqrt(np.abs(randomized_mse.best_score_)))"
      ],
      "metadata": {
        "colab": {
          "base_uri": "https://localhost:8080/"
        },
        "id": "EHDkgrEQ2Bwy",
        "outputId": "76ac66f1-7d74-49fe-9734-241545322b76"
      },
      "execution_count": null,
      "outputs": [
        {
          "output_type": "stream",
          "name": "stdout",
          "text": [
            "Fitting 4 folds for each of 5 candidates, totalling 20 fits\n",
            "Best parameters found:  {'n_estimators': 25, 'max_depth': 4}\n",
            "Lowest RMSE found:  29998.4522530019\n"
          ]
        }
      ]
    }
  ]
}